{
  "nbformat": 4,
  "nbformat_minor": 0,
  "metadata": {
    "colab": {
      "name": "project 2(pokemon classification",
      "provenance": []
    },
    "kernelspec": {
      "name": "python3",
      "display_name": "Python 3"
    },
    "language_info": {
      "name": "python"
    }
  },
  "cells": [
    {
      "cell_type": "code",
      "metadata": {
        "id": "eYSKSVyMxmjM"
      },
      "source": [
        "import tensorflow as tf\n",
        "from keras.preprocessing.image import ImageDataGenerator"
      ],
      "execution_count": 1,
      "outputs": []
    },
    {
      "cell_type": "code",
      "metadata": {
        "id": "oiaG1QF_0ka7",
        "colab": {
          "base_uri": "https://localhost:8080/"
        },
        "outputId": "6d652a90-1294-49f2-a53c-797c88026af1"
      },
      "source": [
        "training_datagen =ImageDataGenerator(rescale=1./255,\n",
        "                                     shear_range=0.2,\n",
        "                                     zoom_range=0.2,\n",
        "                                     horizontal_flip=True)\n",
        "training_set=training_datagen.flow_from_directory('/content/drive/MyDrive/Projects/Dataset/pokemon/Training set',\n",
        "                                                  target_size=(64,64),\n",
        "                                                  batch_size=30,\n",
        "                                                  class_mode='binary')"
      ],
      "execution_count": 3,
      "outputs": [
        {
          "output_type": "stream",
          "name": "stdout",
          "text": [
            "Found 961 images belonging to 2 classes.\n"
          ]
        }
      ]
    },
    {
      "cell_type": "code",
      "metadata": {
        "colab": {
          "base_uri": "https://localhost:8080/"
        },
        "id": "eV6dJq568eND",
        "outputId": "b46f8dbb-0433-4c15-fc49-5274a50ce716"
      },
      "source": [
        "test_datagen=ImageDataGenerator(rescale=1./255)\n",
        "test_set=test_datagen.flow_from_directory('/content/drive/MyDrive/Projects/Dataset/pokemon/test set',\n",
        "                                          target_size=(64,64),\n",
        "                                          batch_size=1,\n",
        "                                          class_mode='binary')"
      ],
      "execution_count": 4,
      "outputs": [
        {
          "output_type": "stream",
          "name": "stdout",
          "text": [
            "Found 113 images belonging to 2 classes.\n"
          ]
        }
      ]
    },
    {
      "cell_type": "code",
      "metadata": {
        "id": "U87WEQCa3YDs"
      },
      "source": [
        "#building cnn\n",
        "##initializing cnn\n",
        "cnn=tf.keras.models.Sequential()"
      ],
      "execution_count": 5,
      "outputs": []
    },
    {
      "cell_type": "code",
      "metadata": {
        "id": "gCgYhxJw4aBy"
      },
      "source": [
        "##convolution\n",
        "cnn.add(tf.keras.layers.Conv2D(filters=32,kernel_size=3,activation='relu',input_shape=[64,64,3]))"
      ],
      "execution_count": 6,
      "outputs": []
    },
    {
      "cell_type": "code",
      "metadata": {
        "id": "ZdEfxVsI4v86"
      },
      "source": [
        "##pooling\n",
        "cnn.add(tf.keras.layers.MaxPool2D(pool_size=2,strides=2))"
      ],
      "execution_count": 7,
      "outputs": []
    },
    {
      "cell_type": "code",
      "metadata": {
        "id": "TosK3Wdm5QyV"
      },
      "source": [
        "\n",
        "##adding a second convolutional layer\n",
        "cnn.add(tf.keras.layers.Conv2D(filters=32,kernel_size=3,activation='relu'))\n",
        "cnn.add(tf.keras.layers.MaxPool2D(pool_size=2,strides=2))\n"
      ],
      "execution_count": 8,
      "outputs": []
    },
    {
      "cell_type": "code",
      "metadata": {
        "id": "u9bhvCsU54kW"
      },
      "source": [
        "##flattening\n",
        "cnn.add(tf.keras.layers.Flatten())"
      ],
      "execution_count": 9,
      "outputs": []
    },
    {
      "cell_type": "code",
      "metadata": {
        "id": "Ag-8v3A86LGR"
      },
      "source": [
        "##full connection\n",
        "cnn.add(tf.keras.layers.Dense(units=128,activation='relu'))\n"
      ],
      "execution_count": 10,
      "outputs": []
    },
    {
      "cell_type": "code",
      "metadata": {
        "id": "TSEwGCC96Zqf"
      },
      "source": [
        "##output layer\n",
        "cnn.add(tf.keras.layers.Dense(units=1,activation='sigmoid'))"
      ],
      "execution_count": 11,
      "outputs": []
    },
    {
      "cell_type": "code",
      "metadata": {
        "id": "jzewTCkb6n7Y"
      },
      "source": [
        "##compiling the cnn\n",
        "cnn.compile(optimizer='adam',loss='binary_crossentropy',metrics=['accuracy'])"
      ],
      "execution_count": 12,
      "outputs": []
    },
    {
      "cell_type": "code",
      "metadata": {
        "id": "PWII-6lWTOnI"
      },
      "source": [
        "#training_set=tf.convert_to_tensor(training_set)"
      ],
      "execution_count": 13,
      "outputs": []
    },
    {
      "cell_type": "code",
      "metadata": {
        "colab": {
          "base_uri": "https://localhost:8080/"
        },
        "id": "gga8Dtq365wv",
        "outputId": "5d10ba5b-eb73-4e88-a0bb-3d3b195237df"
      },
      "source": [
        "##training cnn on training set and evaluating on testing set\n",
        "trained_model=cnn.fit(x=training_set , validation_data= test_set , epochs=13)"
      ],
      "execution_count": 15,
      "outputs": [
        {
          "output_type": "stream",
          "name": "stderr",
          "text": [
            "/usr/local/lib/python3.7/dist-packages/PIL/Image.py:960: UserWarning: Palette images with Transparency expressed in bytes should be converted to RGBA images\n",
            "  \"Palette images with Transparency expressed in bytes should be \"\n"
          ]
        },
        {
          "output_type": "stream",
          "name": "stdout",
          "text": [
            "Epoch 1/13\n",
            "33/33 [==============================] - 316s 10s/step - loss: 0.7360 - accuracy: 0.5900 - val_loss: 0.6104 - val_accuracy: 0.7434\n",
            "Epoch 2/13\n",
            "33/33 [==============================] - 19s 587ms/step - loss: 0.5506 - accuracy: 0.7274 - val_loss: 0.3201 - val_accuracy: 0.8761\n",
            "Epoch 3/13\n",
            "33/33 [==============================] - 19s 578ms/step - loss: 0.5360 - accuracy: 0.7409 - val_loss: 0.4250 - val_accuracy: 0.9027\n",
            "Epoch 4/13\n",
            "33/33 [==============================] - 19s 582ms/step - loss: 0.5080 - accuracy: 0.7908 - val_loss: 0.3563 - val_accuracy: 0.9027\n",
            "Epoch 5/13\n",
            "33/33 [==============================] - 19s 577ms/step - loss: 0.4549 - accuracy: 0.8273 - val_loss: 0.2798 - val_accuracy: 0.8938\n",
            "Epoch 6/13\n",
            "33/33 [==============================] - 19s 586ms/step - loss: 0.4098 - accuracy: 0.8252 - val_loss: 0.2570 - val_accuracy: 0.9027\n",
            "Epoch 7/13\n",
            "33/33 [==============================] - 19s 580ms/step - loss: 0.3781 - accuracy: 0.8377 - val_loss: 0.2854 - val_accuracy: 0.9027\n",
            "Epoch 8/13\n",
            "33/33 [==============================] - 19s 573ms/step - loss: 0.3614 - accuracy: 0.8543 - val_loss: 0.1502 - val_accuracy: 0.9469\n",
            "Epoch 9/13\n",
            "33/33 [==============================] - 19s 578ms/step - loss: 0.3234 - accuracy: 0.8658 - val_loss: 0.1553 - val_accuracy: 0.9469\n",
            "Epoch 10/13\n",
            "33/33 [==============================] - 19s 572ms/step - loss: 0.3077 - accuracy: 0.8720 - val_loss: 0.2172 - val_accuracy: 0.9115\n",
            "Epoch 11/13\n",
            "33/33 [==============================] - 19s 587ms/step - loss: 0.2834 - accuracy: 0.8772 - val_loss: 0.1524 - val_accuracy: 0.9381\n",
            "Epoch 12/13\n",
            "33/33 [==============================] - 19s 575ms/step - loss: 0.2728 - accuracy: 0.8814 - val_loss: 0.1031 - val_accuracy: 0.9823\n",
            "Epoch 13/13\n",
            "33/33 [==============================] - 20s 610ms/step - loss: 0.2759 - accuracy: 0.8855 - val_loss: 0.1239 - val_accuracy: 0.9735\n"
          ]
        }
      ]
    },
    {
      "cell_type": "code",
      "metadata": {
        "colab": {
          "base_uri": "https://localhost:8080/"
        },
        "id": "FuWt7NUHySYX",
        "outputId": "e7fafa51-5542-4901-930e-bf3ccdc70ecb"
      },
      "source": [
        "\n",
        "a= input('give image path')\n"
      ],
      "execution_count": 17,
      "outputs": [
        {
          "name": "stdout",
          "output_type": "stream",
          "text": [
            "give image path/content/download (1).jpg\n"
          ]
        }
      ]
    },
    {
      "cell_type": "code",
      "metadata": {
        "colab": {
          "base_uri": "https://localhost:8080/"
        },
        "id": "gYpcWl9BOyy0",
        "outputId": "0f80f2dd-bcbb-40ab-fbf3-5dd5d384d585"
      },
      "source": [
        "#making sngle prediction\n",
        "import numpy as np\n",
        "from keras.preprocessing import image\n",
        "test_image=image.load_img(a, target_size =(64,64))\n",
        "test_image=image.img_to_array(test_image)\n",
        "\n",
        "test_image=np.expand_dims(test_image,axis=0)\n",
        "result=cnn.predict(test_image)\n",
        "training_set.class_indices\n",
        "if result[0][0]==1:\n",
        "    prediction = 'Pokemon:-raichu \\n Species:- Mouse Pokemon \\n Fighting Style:- Electric \\n Weaknes:- Ground \\n \\n Evolution:- Pivhu >> Pikachu >> Raichu'\n",
        "else:\n",
        "    prediction = 'Pokemon:- pikachu \\n Species:- Mouse Pokemon \\n Fighting Style:- Electric \\n Weakness:- Ground \\n Evolution:- Pichu >> Pikachu '\n",
        "print(prediction)"
      ],
      "execution_count": 18,
      "outputs": [
        {
          "output_type": "stream",
          "name": "stdout",
          "text": [
            "Pokemon:- pikachu \n",
            " Species:- Mouse Pokemon \n",
            " Fighting Style:- Electric \n",
            " Weakness:- Ground \n",
            " Evolution:- Pichu >> Pikachu \n"
          ]
        }
      ]
    }
  ]
}